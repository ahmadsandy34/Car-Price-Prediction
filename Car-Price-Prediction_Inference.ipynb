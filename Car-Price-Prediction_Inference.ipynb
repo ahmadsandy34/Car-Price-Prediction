{
 "cells": [
  {
   "cell_type": "markdown",
   "metadata": {},
   "source": [
    "## 10. Model Inference"
   ]
  },
  {
   "cell_type": "markdown",
   "metadata": {},
   "source": [
    "I will use the necessary files and model that we had saved to predict new car data."
   ]
  },
  {
   "cell_type": "code",
   "execution_count": 1,
   "metadata": {},
   "outputs": [],
   "source": [
    "# Import the libraries that will be used\n",
    "import pandas as pd\n",
    "import numpy as np\n",
    "import pickle\n",
    "import json"
   ]
  },
  {
   "cell_type": "code",
   "execution_count": 2,
   "metadata": {},
   "outputs": [],
   "source": [
    "# Load all files\n",
    "with open('list_cat_cols.txt', 'r') as file_1:\n",
    "  list_cat_cols = json.load(file_1)\n",
    "\n",
    "with open('list_num_cols.txt', 'r') as file_2:\n",
    "  list_num_cols = json.load(file_2)\n",
    "\n",
    "with open('model_scaler.pkl', 'rb') as file_3:\n",
    "  scaler = pickle.load(file_3)\n",
    "\n",
    "with open('model_encoder.pkl', 'rb') as file_4:\n",
    "  encoder = pickle.load(file_4)\n",
    "\n",
    "with open('lasso_lin_reg.pkl', 'rb') as file_5:\n",
    "  lasso_lin_reg = pickle.load(file_5)"
   ]
  },
  {
   "cell_type": "code",
   "execution_count": 3,
   "metadata": {},
   "outputs": [
    {
     "data": {
      "text/html": [
       "<div>\n",
       "<style scoped>\n",
       "    .dataframe tbody tr th:only-of-type {\n",
       "        vertical-align: middle;\n",
       "    }\n",
       "\n",
       "    .dataframe tbody tr th {\n",
       "        vertical-align: top;\n",
       "    }\n",
       "\n",
       "    .dataframe thead th {\n",
       "        text-align: right;\n",
       "    }\n",
       "</style>\n",
       "<table border=\"1\" class=\"dataframe\">\n",
       "  <thead>\n",
       "    <tr style=\"text-align: right;\">\n",
       "      <th></th>\n",
       "      <th>brand</th>\n",
       "      <th>model</th>\n",
       "      <th>year</th>\n",
       "      <th>transmission</th>\n",
       "      <th>mileage</th>\n",
       "      <th>fuelType</th>\n",
       "      <th>tax</th>\n",
       "      <th>mpg</th>\n",
       "      <th>engineSize</th>\n",
       "      <th>efficiency</th>\n",
       "    </tr>\n",
       "  </thead>\n",
       "  <tbody>\n",
       "    <tr>\n",
       "      <th>0</th>\n",
       "      <td>Audi</td>\n",
       "      <td>A4</td>\n",
       "      <td>2019</td>\n",
       "      <td>Semi-Auto</td>\n",
       "      <td>5000</td>\n",
       "      <td>Diesel</td>\n",
       "      <td>145</td>\n",
       "      <td>51.4</td>\n",
       "      <td>2.0</td>\n",
       "      <td>efficient</td>\n",
       "    </tr>\n",
       "  </tbody>\n",
       "</table>\n",
       "</div>"
      ],
      "text/plain": [
       "  brand model  year transmission  mileage fuelType  tax   mpg  engineSize  \\\n",
       "0  Audi    A4  2019    Semi-Auto     5000   Diesel  145  51.4         2.0   \n",
       "\n",
       "  efficiency  \n",
       "0  efficient  "
      ]
     },
     "execution_count": 3,
     "metadata": {},
     "output_type": "execute_result"
    }
   ],
   "source": [
    "# Create new car data\n",
    "data_inf = {\n",
    "    'brand': 'Audi',\n",
    "    'model' :'A4',\n",
    "    'year' : 2019,\n",
    "    'transmission' : 'Semi-Auto',\n",
    "    'mileage': 5000,\n",
    "    'fuelType': 'Diesel',\n",
    "    'tax': 145,\n",
    "    'mpg': 51.4,\n",
    "    'engineSize': 2.0,\n",
    "    'efficiency':'efficient'\n",
    "}\n",
    "\n",
    "data_inf = pd.DataFrame([data_inf])\n",
    "data_inf"
   ]
  },
  {
   "cell_type": "code",
   "execution_count": 4,
   "metadata": {},
   "outputs": [],
   "source": [
    "# Apply feature scaling and encoding to new car data \n",
    "data_inf_cat = data_inf[list_cat_cols]\n",
    "data_inf_num = data_inf[list_num_cols]\n",
    "\n",
    "data_inf_num_scaled = scaler.transform(data_inf_num)\n",
    "data_inf_cat_encoded = encoder.transform(data_inf_cat).toarray()\n",
    "\n",
    "newCar = np.concatenate([data_inf_num_scaled, data_inf_cat_encoded], axis = 1)"
   ]
  },
  {
   "cell_type": "code",
   "execution_count": 5,
   "metadata": {},
   "outputs": [
    {
     "name": "stdout",
     "output_type": "stream",
     "text": [
      "Based on the car specification, the predicted car price is [28704.26100545]\n"
     ]
    }
   ],
   "source": [
    "# Predict the price of new car data \n",
    "car_price_prediction = lasso_lin_reg.predict(newCar)\n",
    "\n",
    "print(\"Based on the car specification, the predicted car price is\", car_price_prediction)"
   ]
  },
  {
   "cell_type": "code",
   "execution_count": 6,
   "metadata": {},
   "outputs": [
    {
     "data": {
      "text/html": [
       "<div>\n",
       "<style scoped>\n",
       "    .dataframe tbody tr th:only-of-type {\n",
       "        vertical-align: middle;\n",
       "    }\n",
       "\n",
       "    .dataframe tbody tr th {\n",
       "        vertical-align: top;\n",
       "    }\n",
       "\n",
       "    .dataframe thead th {\n",
       "        text-align: right;\n",
       "    }\n",
       "</style>\n",
       "<table border=\"1\" class=\"dataframe\">\n",
       "  <thead>\n",
       "    <tr style=\"text-align: right;\">\n",
       "      <th></th>\n",
       "      <th>brand</th>\n",
       "      <th>model</th>\n",
       "      <th>year</th>\n",
       "      <th>transmission</th>\n",
       "      <th>mileage</th>\n",
       "      <th>fuelType</th>\n",
       "      <th>tax</th>\n",
       "      <th>mpg</th>\n",
       "      <th>engineSize</th>\n",
       "      <th>efficiency</th>\n",
       "    </tr>\n",
       "  </thead>\n",
       "  <tbody>\n",
       "    <tr>\n",
       "      <th>0</th>\n",
       "      <td>Vauxhall</td>\n",
       "      <td>Corsa</td>\n",
       "      <td>2017</td>\n",
       "      <td>Manual</td>\n",
       "      <td>22322</td>\n",
       "      <td>Petrol</td>\n",
       "      <td>30</td>\n",
       "      <td>51.4</td>\n",
       "      <td>1.4</td>\n",
       "      <td>efficient</td>\n",
       "    </tr>\n",
       "  </tbody>\n",
       "</table>\n",
       "</div>"
      ],
      "text/plain": [
       "      brand  model  year transmission  mileage fuelType  tax   mpg  \\\n",
       "0  Vauxhall  Corsa  2017       Manual    22322   Petrol   30  51.4   \n",
       "\n",
       "   engineSize efficiency  \n",
       "0         1.4  efficient  "
      ]
     },
     "execution_count": 6,
     "metadata": {},
     "output_type": "execute_result"
    }
   ],
   "source": [
    "# Create new car data 2\n",
    "data_inf2 = {\n",
    "    'brand': 'Vauxhall',\n",
    "    'model' :'Corsa',\n",
    "    'year' : 2017,\n",
    "    'transmission' : 'Manual',\n",
    "    'mileage': 22322,\n",
    "    'fuelType': 'Petrol',\n",
    "    'tax': 30,\n",
    "    'mpg': 51.4,\n",
    "    'engineSize': 1.4,\n",
    "    'efficiency':'efficient'\n",
    "}\n",
    "\n",
    "data_inf2 = pd.DataFrame([data_inf2])\n",
    "data_inf2"
   ]
  },
  {
   "cell_type": "code",
   "execution_count": 7,
   "metadata": {},
   "outputs": [],
   "source": [
    "# Apply feature scaling and encoding to new car data 2\n",
    "data_inf_cat2 = data_inf2[list_cat_cols]\n",
    "data_inf_num2 = data_inf2[list_num_cols]\n",
    "\n",
    "data_inf_num_scaled2 = scaler.transform(data_inf_num2)\n",
    "data_inf_cat_encoded2 = encoder.transform(data_inf_cat2).toarray()\n",
    "\n",
    "newCar2 = np.concatenate([data_inf_num_scaled2 , data_inf_cat_encoded2], axis = 1)"
   ]
  },
  {
   "cell_type": "code",
   "execution_count": 8,
   "metadata": {},
   "outputs": [
    {
     "name": "stdout",
     "output_type": "stream",
     "text": [
      "Based on the car specification, the predicted car price is [10924.42903107]\n"
     ]
    }
   ],
   "source": [
    "# Predict the price of new car data 2\n",
    "car_price_prediction2 = lasso_lin_reg.predict(newCar2)\n",
    "\n",
    "print(\"Based on the car specification, the predicted car price is\", car_price_prediction2)"
   ]
  }
 ],
 "metadata": {
  "kernelspec": {
   "display_name": "base",
   "language": "python",
   "name": "python3"
  },
  "language_info": {
   "codemirror_mode": {
    "name": "ipython",
    "version": 3
   },
   "file_extension": ".py",
   "mimetype": "text/x-python",
   "name": "python",
   "nbconvert_exporter": "python",
   "pygments_lexer": "ipython3",
   "version": "3.11.7"
  }
 },
 "nbformat": 4,
 "nbformat_minor": 2
}
